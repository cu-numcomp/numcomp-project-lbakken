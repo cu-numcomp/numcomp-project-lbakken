{
 "cells": [
  {
   "cell_type": "markdown",
   "metadata": {},
   "source": [
    "# Project: **tf.linalg.qr** in **TensorFlow**\n",
    "\n",
    "This project explores the **QR Decomposition** in TensorFlow.\n",
    "\n",
    "I thought it would be interesting to explore a fundamental method for this project. QR Decomposition is something we learned early in the semester as a helpful tool for solving systems of linear equations. Being such an important tool, I was excited to learn about how TensorFlow implemented it for use with tensors and other machine learning applications."
   ]
  },
  {
   "cell_type": "markdown",
   "metadata": {},
   "source": [
    "### **PLEASE NOTE**:\n",
    "TensorFlow is a large machine learning platform of > 400MB<br>\n",
    "Take care before executing the cell below.\n",
    "\n",
    "To see verbose output, remove `'> /dev/null'`"
   ]
  },
  {
   "cell_type": "code",
   "execution_count": 1,
   "metadata": {
    "scrolled": true
   },
   "outputs": [],
   "source": [
    "! pip install tensorflow > /dev/null"
   ]
  },
  {
   "cell_type": "code",
   "execution_count": 2,
   "metadata": {},
   "outputs": [],
   "source": [
    "import tensorflow as tf"
   ]
  },
  {
   "cell_type": "markdown",
   "metadata": {},
   "source": [
    "## About the method\n",
    "\n",
    "QR Decompositions are a helpful, reliable way of solving linear systems of equations. In the case of TensorFlow, the QR use case goes somewhat beyond what we have observed in class. Rather than only using traditional matricies, TensorFlow operates with, you guessed it, tensors.\n",
    "\n",
    "#### So, what is a tensor?\n",
    "\n",
    "<img src=\"./tensor.png\" alt=\"scalar vs vector vs matrix vs tensor\" width=\"500\" />\n",
    "\n",
    "A tensor is to a matrix what a matrix is to a vector. Technically speaking, a rank 0 tensor is just a scalar. A rank 1 tensor is a vector, rank 2 is a matrix, and anything above is what is traditionally referred to as a tensor. \n",
    "\n",
    "#### So, how?\n",
    "Given that a tensor is not necessarily a matrix, how can we compute the QR decomposition of a tensor? The solution used by TensorFlow breaks the tensors down into a collection of its inner-most 2 dimensions and calculates individual Q and R values for each. These Q and R values are then expanded into a tensor of the same original shape as the input.\n",
    "\n",
    "One way to think of this would be, as in the image above, treating each index of the 'vectors' stored in the 'matrix' as its own matrix. Then, perform QR decomposition on each matrix, and stuff those values back into a tensor.\n",
    "\n",
    "#### So, why?\n",
    "As for why use a tensor in place of many individual matricies, it comes down to the structure and purpose of TensorFlow. Machine learning applications boil down to performing an operation on input data to recieve an end result. Storing, for example, image data makes the most sense in a tensor. You have the height and width of the grid, forming a matrix, *PLUS* the RGB values for each pixel. In the case of an image being used to train a machine learning model, it also makes more sense to store the singular image as a singular data structure, as a tensor. This is why being able to perform operations like QR on a tensor, rather than just a matrix, is beneficial.\n",
    "\n",
    "#### So, why QR?\n",
    "I wanted to revisit one of our earlier subjects in a new light and after having gained more experience over the course of the semester. The uses of QR within machine learning are limited to whatever specific machine learning project it is used in. The general rule being that it can be used to recognize the independent parts of whatever tensor it is a part of. Applications like background removal, topic modeling, and recommendations use QR when building their models."
   ]
  },
  {
   "cell_type": "markdown",
   "metadata": {},
   "source": [
    "## More About The Software\n",
    "\n",
    "### Who Created It?\n",
    "The Google Brain team initially created TensorFlow for internal use, but in 2015 made the project open source. This was done to give up and coming machine learning enthusiasts the computational tools needed to build deep learning models with ease.\n",
    "\n",
    "### What Does It Do?\n",
    "TensorFlow is a library of highly optimized methods and classes built for machine learning applications. The tools provided in the library simplify the process of building complex machine learning models.\n",
    "\n",
    "### What Languages Are Supported?\n",
    "TensorFlow supports Python, C++, and even JS\n",
    "<br><br><br>\n",
    "### Links And Resources:\n",
    "Open Source Code:<br>\n",
    "https://github.com/tensorflow/tensorflow\n",
    "\n",
    "API Documentation:<br>\n",
    "https://www.tensorflow.org/api_docs/python/tf\n",
    "\n",
    "QR Specific API Documentation:<br>\n",
    "https://www.tensorflow.org/api_docs/python/tf/linalg/qr"
   ]
  }
 ],
 "metadata": {
  "kernelspec": {
   "display_name": "Python 3",
   "language": "python",
   "name": "python3"
  },
  "language_info": {
   "codemirror_mode": {
    "name": "ipython",
    "version": 3
   },
   "file_extension": ".py",
   "mimetype": "text/x-python",
   "name": "python",
   "nbconvert_exporter": "python",
   "pygments_lexer": "ipython3",
   "version": "3.7.6"
  }
 },
 "nbformat": 4,
 "nbformat_minor": 4
}
